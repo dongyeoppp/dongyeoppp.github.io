{
 "cells": [
  {
   "cell_type": "code",
   "execution_count": 1,
   "id": "47ad01d8",
   "metadata": {
    "_cell_guid": "b1076dfc-b9ad-4769-8c92-a6c4dae69d19",
    "_uuid": "8f2839f25d086af736a60e9eeb907d3b93b6e0e5",
    "execution": {
     "iopub.execute_input": "2022-04-10T10:28:54.257685Z",
     "iopub.status.busy": "2022-04-10T10:28:54.256630Z",
     "iopub.status.idle": "2022-04-10T10:28:54.268062Z",
     "shell.execute_reply": "2022-04-10T10:28:54.268749Z",
     "shell.execute_reply.started": "2022-04-10T10:03:07.104541Z"
    },
    "papermill": {
     "duration": 0.037842,
     "end_time": "2022-04-10T10:28:54.269096",
     "exception": false,
     "start_time": "2022-04-10T10:28:54.231254",
     "status": "completed"
    },
    "tags": []
   },
   "outputs": [
    {
     "name": "stdout",
     "output_type": "stream",
     "text": [
      "/kaggle/input/titanic/train.csv\n",
      "/kaggle/input/titanic/test.csv\n",
      "/kaggle/input/titanic/gender_submission.csv\n"
     ]
    }
   ],
   "source": [
    "# This Python 3 environment comes with many helpful analytics libraries installed\n",
    "# It is defined by the kaggle/python Docker image: https://github.com/kaggle/docker-python\n",
    "# For example, here's several helpful packages to load\n",
    "\n",
    "import numpy as np # linear algebra\n",
    "import pandas as pd # data processing, CSV file I/O (e.g. pd.read_csv)\n",
    "\n",
    "import matplotlib.pyplot as plt\n",
    "\n",
    "plt.rc('font', size=14)\n",
    "plt.rc('axes', labelsize=14, titlesize=14)\n",
    "plt.rc('legend', fontsize=14)\n",
    "plt.rc('xtick', labelsize=10)\n",
    "plt.rc('ytick', labelsize=10)\n",
    "# Input data files are available in the read-only \"../input/\" directory\n",
    "# For example, running this (by clicking run or pressing Shift+Enter) will list all files under the input directory\n",
    "\n",
    "import os\n",
    "for dirname, _, filenames in os.walk('/kaggle/input'):\n",
    "    for filename in filenames:\n",
    "        print(os.path.join(dirname, filename))\n",
    "\n",
    "# You can write up to 20GB to the current directory (/kaggle/working/) that gets preserved as output when you create a version using \"Save & Run All\" \n",
    "# You can also write temporary files to /kaggle/temp/, but they won't be saved outside of the current session"
   ]
  },
  {
   "cell_type": "code",
   "execution_count": 2,
   "id": "462d950f",
   "metadata": {
    "execution": {
     "iopub.execute_input": "2022-04-10T10:28:54.317370Z",
     "iopub.status.busy": "2022-04-10T10:28:54.316824Z",
     "iopub.status.idle": "2022-04-10T10:28:54.338202Z",
     "shell.execute_reply": "2022-04-10T10:28:54.338710Z",
     "shell.execute_reply.started": "2022-04-10T09:26:55.072009Z"
    },
    "papermill": {
     "duration": 0.046066,
     "end_time": "2022-04-10T10:28:54.338881",
     "exception": false,
     "start_time": "2022-04-10T10:28:54.292815",
     "status": "completed"
    },
    "tags": []
   },
   "outputs": [],
   "source": [
    "train_data = pd.read_csv(\"/kaggle/input/titanic/train.csv\")\n",
    "test_data = pd.read_csv(\"/kaggle/input/titanic/test.csv\")"
   ]
  },
  {
   "cell_type": "code",
   "execution_count": 3,
   "id": "3f154626",
   "metadata": {
    "execution": {
     "iopub.execute_input": "2022-04-10T10:28:54.385210Z",
     "iopub.status.busy": "2022-04-10T10:28:54.384646Z",
     "iopub.status.idle": "2022-04-10T10:28:54.392327Z",
     "shell.execute_reply": "2022-04-10T10:28:54.392815Z",
     "shell.execute_reply.started": "2022-04-10T09:26:56.658044Z"
    },
    "papermill": {
     "duration": 0.032391,
     "end_time": "2022-04-10T10:28:54.392975",
     "exception": false,
     "start_time": "2022-04-10T10:28:54.360584",
     "status": "completed"
    },
    "tags": []
   },
   "outputs": [],
   "source": [
    "# 데이터를 가져와 로드한다.\n",
    "\n",
    "from pathlib import Path\n",
    "import pandas as pd\n",
    "import tarfile\n",
    "import urllib.request\n",
    "\n",
    "def load_titanic_data():\n",
    "    tarball_path = Path(\"datasets/titanic.tgz\")\n",
    "    if not tarball_path.is_file():\n",
    "        Path(\"datasets\").mkdir(parents=True, exist_ok=True)\n",
    "        url = \"https://github.com/ageron/data/raw/main/titanic.tgz\"\n",
    "        urllib.request.urlretrieve(url, tarball_path)\n",
    "        with tarfile.open(tarball_path) as titanic_tarball:\n",
    "            titanic_tarball.extractall(path=\"datasets\")\n",
    "    return [pd.read_csv(Path(\"datasets/titanic\") / filename)\n",
    "            for filename in (\"train.csv\", \"test.csv\")]"
   ]
  },
  {
   "cell_type": "code",
   "execution_count": 4,
   "id": "4d1e7b36",
   "metadata": {
    "execution": {
     "iopub.execute_input": "2022-04-10T10:28:54.441381Z",
     "iopub.status.busy": "2022-04-10T10:28:54.440792Z",
     "iopub.status.idle": "2022-04-10T10:28:54.462045Z",
     "shell.execute_reply": "2022-04-10T10:28:54.462609Z",
     "shell.execute_reply.started": "2022-04-10T09:26:59.79494Z"
    },
    "papermill": {
     "duration": 0.047827,
     "end_time": "2022-04-10T10:28:54.462780",
     "exception": false,
     "start_time": "2022-04-10T10:28:54.414953",
     "status": "completed"
    },
    "tags": []
   },
   "outputs": [
    {
     "data": {
      "text/html": [
       "<div>\n",
       "<style scoped>\n",
       "    .dataframe tbody tr th:only-of-type {\n",
       "        vertical-align: middle;\n",
       "    }\n",
       "\n",
       "    .dataframe tbody tr th {\n",
       "        vertical-align: top;\n",
       "    }\n",
       "\n",
       "    .dataframe thead th {\n",
       "        text-align: right;\n",
       "    }\n",
       "</style>\n",
       "<table border=\"1\" class=\"dataframe\">\n",
       "  <thead>\n",
       "    <tr style=\"text-align: right;\">\n",
       "      <th></th>\n",
       "      <th>PassengerId</th>\n",
       "      <th>Survived</th>\n",
       "      <th>Pclass</th>\n",
       "      <th>Name</th>\n",
       "      <th>Sex</th>\n",
       "      <th>Age</th>\n",
       "      <th>SibSp</th>\n",
       "      <th>Parch</th>\n",
       "      <th>Ticket</th>\n",
       "      <th>Fare</th>\n",
       "      <th>Cabin</th>\n",
       "      <th>Embarked</th>\n",
       "    </tr>\n",
       "  </thead>\n",
       "  <tbody>\n",
       "    <tr>\n",
       "      <th>0</th>\n",
       "      <td>1</td>\n",
       "      <td>0</td>\n",
       "      <td>3</td>\n",
       "      <td>Braund, Mr. Owen Harris</td>\n",
       "      <td>male</td>\n",
       "      <td>22.0</td>\n",
       "      <td>1</td>\n",
       "      <td>0</td>\n",
       "      <td>A/5 21171</td>\n",
       "      <td>7.2500</td>\n",
       "      <td>NaN</td>\n",
       "      <td>S</td>\n",
       "    </tr>\n",
       "    <tr>\n",
       "      <th>1</th>\n",
       "      <td>2</td>\n",
       "      <td>1</td>\n",
       "      <td>1</td>\n",
       "      <td>Cumings, Mrs. John Bradley (Florence Briggs Th...</td>\n",
       "      <td>female</td>\n",
       "      <td>38.0</td>\n",
       "      <td>1</td>\n",
       "      <td>0</td>\n",
       "      <td>PC 17599</td>\n",
       "      <td>71.2833</td>\n",
       "      <td>C85</td>\n",
       "      <td>C</td>\n",
       "    </tr>\n",
       "    <tr>\n",
       "      <th>2</th>\n",
       "      <td>3</td>\n",
       "      <td>1</td>\n",
       "      <td>3</td>\n",
       "      <td>Heikkinen, Miss. Laina</td>\n",
       "      <td>female</td>\n",
       "      <td>26.0</td>\n",
       "      <td>0</td>\n",
       "      <td>0</td>\n",
       "      <td>STON/O2. 3101282</td>\n",
       "      <td>7.9250</td>\n",
       "      <td>NaN</td>\n",
       "      <td>S</td>\n",
       "    </tr>\n",
       "    <tr>\n",
       "      <th>3</th>\n",
       "      <td>4</td>\n",
       "      <td>1</td>\n",
       "      <td>1</td>\n",
       "      <td>Futrelle, Mrs. Jacques Heath (Lily May Peel)</td>\n",
       "      <td>female</td>\n",
       "      <td>35.0</td>\n",
       "      <td>1</td>\n",
       "      <td>0</td>\n",
       "      <td>113803</td>\n",
       "      <td>53.1000</td>\n",
       "      <td>C123</td>\n",
       "      <td>S</td>\n",
       "    </tr>\n",
       "    <tr>\n",
       "      <th>4</th>\n",
       "      <td>5</td>\n",
       "      <td>0</td>\n",
       "      <td>3</td>\n",
       "      <td>Allen, Mr. William Henry</td>\n",
       "      <td>male</td>\n",
       "      <td>35.0</td>\n",
       "      <td>0</td>\n",
       "      <td>0</td>\n",
       "      <td>373450</td>\n",
       "      <td>8.0500</td>\n",
       "      <td>NaN</td>\n",
       "      <td>S</td>\n",
       "    </tr>\n",
       "  </tbody>\n",
       "</table>\n",
       "</div>"
      ],
      "text/plain": [
       "   PassengerId  Survived  Pclass  \\\n",
       "0            1         0       3   \n",
       "1            2         1       1   \n",
       "2            3         1       3   \n",
       "3            4         1       1   \n",
       "4            5         0       3   \n",
       "\n",
       "                                                Name     Sex   Age  SibSp  \\\n",
       "0                            Braund, Mr. Owen Harris    male  22.0      1   \n",
       "1  Cumings, Mrs. John Bradley (Florence Briggs Th...  female  38.0      1   \n",
       "2                             Heikkinen, Miss. Laina  female  26.0      0   \n",
       "3       Futrelle, Mrs. Jacques Heath (Lily May Peel)  female  35.0      1   \n",
       "4                           Allen, Mr. William Henry    male  35.0      0   \n",
       "\n",
       "   Parch            Ticket     Fare Cabin Embarked  \n",
       "0      0         A/5 21171   7.2500   NaN        S  \n",
       "1      0          PC 17599  71.2833   C85        C  \n",
       "2      0  STON/O2. 3101282   7.9250   NaN        S  \n",
       "3      0            113803  53.1000  C123        S  \n",
       "4      0            373450   8.0500   NaN        S  "
      ]
     },
     "execution_count": 4,
     "metadata": {},
     "output_type": "execute_result"
    }
   ],
   "source": [
    "# 교육세트의 상위 몇 행을 살펴보기\n",
    "\n",
    "train_data.head()"
   ]
  },
  {
   "cell_type": "code",
   "execution_count": 5,
   "id": "c96a30e6",
   "metadata": {
    "execution": {
     "iopub.execute_input": "2022-04-10T10:28:54.514724Z",
     "iopub.status.busy": "2022-04-10T10:28:54.514023Z",
     "iopub.status.idle": "2022-04-10T10:28:54.525693Z",
     "shell.execute_reply": "2022-04-10T10:28:54.526200Z",
     "shell.execute_reply.started": "2022-04-10T09:29:17.614841Z"
    },
    "papermill": {
     "duration": 0.039383,
     "end_time": "2022-04-10T10:28:54.526371",
     "exception": false,
     "start_time": "2022-04-10T10:28:54.486988",
     "status": "completed"
    },
    "tags": []
   },
   "outputs": [],
   "source": [
    "# PassengerId 열을 인덱스 열로 명시적으로 설정\n",
    "\n",
    "train_data = train_data.set_index(\"PassengerId\")\n",
    "test_data = test_data.set_index(\"PassengerId\")"
   ]
  },
  {
   "cell_type": "code",
   "execution_count": 6,
   "id": "d362361e",
   "metadata": {
    "execution": {
     "iopub.execute_input": "2022-04-10T10:28:54.592618Z",
     "iopub.status.busy": "2022-04-10T10:28:54.591874Z",
     "iopub.status.idle": "2022-04-10T10:28:54.595905Z",
     "shell.execute_reply": "2022-04-10T10:28:54.596309Z",
     "shell.execute_reply.started": "2022-04-10T09:29:31.669592Z"
    },
    "papermill": {
     "duration": 0.046349,
     "end_time": "2022-04-10T10:28:54.596502",
     "exception": false,
     "start_time": "2022-04-10T10:28:54.550153",
     "status": "completed"
    },
    "tags": []
   },
   "outputs": [
    {
     "name": "stdout",
     "output_type": "stream",
     "text": [
      "<class 'pandas.core.frame.DataFrame'>\n",
      "Int64Index: 891 entries, 1 to 891\n",
      "Data columns (total 11 columns):\n",
      " #   Column    Non-Null Count  Dtype  \n",
      "---  ------    --------------  -----  \n",
      " 0   Survived  891 non-null    int64  \n",
      " 1   Pclass    891 non-null    int64  \n",
      " 2   Name      891 non-null    object \n",
      " 3   Sex       891 non-null    object \n",
      " 4   Age       714 non-null    float64\n",
      " 5   SibSp     891 non-null    int64  \n",
      " 6   Parch     891 non-null    int64  \n",
      " 7   Ticket    891 non-null    object \n",
      " 8   Fare      891 non-null    float64\n",
      " 9   Cabin     204 non-null    object \n",
      " 10  Embarked  889 non-null    object \n",
      "dtypes: float64(2), int64(4), object(5)\n",
      "memory usage: 83.5+ KB\n"
     ]
    }
   ],
   "source": [
    "# 누락된 데이터가 얼마나 되는지 자세히 알아보자.\n",
    "\n",
    "train_data.info()"
   ]
  },
  {
   "cell_type": "code",
   "execution_count": 7,
   "id": "1b78c68a",
   "metadata": {
    "execution": {
     "iopub.execute_input": "2022-04-10T10:28:54.647995Z",
     "iopub.status.busy": "2022-04-10T10:28:54.647311Z",
     "iopub.status.idle": "2022-04-10T10:28:54.653996Z",
     "shell.execute_reply": "2022-04-10T10:28:54.654466Z",
     "shell.execute_reply.started": "2022-04-10T09:30:00.951089Z"
    },
    "papermill": {
     "duration": 0.035646,
     "end_time": "2022-04-10T10:28:54.654777",
     "exception": false,
     "start_time": "2022-04-10T10:28:54.619131",
     "status": "completed"
    },
    "tags": []
   },
   "outputs": [
    {
     "data": {
      "text/plain": [
       "27.0"
      ]
     },
     "execution_count": 7,
     "metadata": {},
     "output_type": "execute_result"
    }
   ],
   "source": [
    "train_data[train_data[\"Sex\"]==\"female\"][\"Age\"].median()"
   ]
  },
  {
   "cell_type": "code",
   "execution_count": 8,
   "id": "47d207ad",
   "metadata": {
    "execution": {
     "iopub.execute_input": "2022-04-10T10:28:54.715438Z",
     "iopub.status.busy": "2022-04-10T10:28:54.714716Z",
     "iopub.status.idle": "2022-04-10T10:28:54.745814Z",
     "shell.execute_reply": "2022-04-10T10:28:54.746291Z",
     "shell.execute_reply.started": "2022-04-10T09:30:54.408456Z"
    },
    "papermill": {
     "duration": 0.066517,
     "end_time": "2022-04-10T10:28:54.746512",
     "exception": false,
     "start_time": "2022-04-10T10:28:54.679995",
     "status": "completed"
    },
    "tags": []
   },
   "outputs": [
    {
     "data": {
      "text/html": [
       "<div>\n",
       "<style scoped>\n",
       "    .dataframe tbody tr th:only-of-type {\n",
       "        vertical-align: middle;\n",
       "    }\n",
       "\n",
       "    .dataframe tbody tr th {\n",
       "        vertical-align: top;\n",
       "    }\n",
       "\n",
       "    .dataframe thead th {\n",
       "        text-align: right;\n",
       "    }\n",
       "</style>\n",
       "<table border=\"1\" class=\"dataframe\">\n",
       "  <thead>\n",
       "    <tr style=\"text-align: right;\">\n",
       "      <th></th>\n",
       "      <th>Survived</th>\n",
       "      <th>Pclass</th>\n",
       "      <th>Age</th>\n",
       "      <th>SibSp</th>\n",
       "      <th>Parch</th>\n",
       "      <th>Fare</th>\n",
       "    </tr>\n",
       "  </thead>\n",
       "  <tbody>\n",
       "    <tr>\n",
       "      <th>count</th>\n",
       "      <td>891.000000</td>\n",
       "      <td>891.000000</td>\n",
       "      <td>714.000000</td>\n",
       "      <td>891.000000</td>\n",
       "      <td>891.000000</td>\n",
       "      <td>891.000000</td>\n",
       "    </tr>\n",
       "    <tr>\n",
       "      <th>mean</th>\n",
       "      <td>0.383838</td>\n",
       "      <td>2.308642</td>\n",
       "      <td>29.699118</td>\n",
       "      <td>0.523008</td>\n",
       "      <td>0.381594</td>\n",
       "      <td>32.204208</td>\n",
       "    </tr>\n",
       "    <tr>\n",
       "      <th>std</th>\n",
       "      <td>0.486592</td>\n",
       "      <td>0.836071</td>\n",
       "      <td>14.526497</td>\n",
       "      <td>1.102743</td>\n",
       "      <td>0.806057</td>\n",
       "      <td>49.693429</td>\n",
       "    </tr>\n",
       "    <tr>\n",
       "      <th>min</th>\n",
       "      <td>0.000000</td>\n",
       "      <td>1.000000</td>\n",
       "      <td>0.420000</td>\n",
       "      <td>0.000000</td>\n",
       "      <td>0.000000</td>\n",
       "      <td>0.000000</td>\n",
       "    </tr>\n",
       "    <tr>\n",
       "      <th>25%</th>\n",
       "      <td>0.000000</td>\n",
       "      <td>2.000000</td>\n",
       "      <td>20.125000</td>\n",
       "      <td>0.000000</td>\n",
       "      <td>0.000000</td>\n",
       "      <td>7.910400</td>\n",
       "    </tr>\n",
       "    <tr>\n",
       "      <th>50%</th>\n",
       "      <td>0.000000</td>\n",
       "      <td>3.000000</td>\n",
       "      <td>28.000000</td>\n",
       "      <td>0.000000</td>\n",
       "      <td>0.000000</td>\n",
       "      <td>14.454200</td>\n",
       "    </tr>\n",
       "    <tr>\n",
       "      <th>75%</th>\n",
       "      <td>1.000000</td>\n",
       "      <td>3.000000</td>\n",
       "      <td>38.000000</td>\n",
       "      <td>1.000000</td>\n",
       "      <td>0.000000</td>\n",
       "      <td>31.000000</td>\n",
       "    </tr>\n",
       "    <tr>\n",
       "      <th>max</th>\n",
       "      <td>1.000000</td>\n",
       "      <td>3.000000</td>\n",
       "      <td>80.000000</td>\n",
       "      <td>8.000000</td>\n",
       "      <td>6.000000</td>\n",
       "      <td>512.329200</td>\n",
       "    </tr>\n",
       "  </tbody>\n",
       "</table>\n",
       "</div>"
      ],
      "text/plain": [
       "         Survived      Pclass         Age       SibSp       Parch        Fare\n",
       "count  891.000000  891.000000  714.000000  891.000000  891.000000  891.000000\n",
       "mean     0.383838    2.308642   29.699118    0.523008    0.381594   32.204208\n",
       "std      0.486592    0.836071   14.526497    1.102743    0.806057   49.693429\n",
       "min      0.000000    1.000000    0.420000    0.000000    0.000000    0.000000\n",
       "25%      0.000000    2.000000   20.125000    0.000000    0.000000    7.910400\n",
       "50%      0.000000    3.000000   28.000000    0.000000    0.000000   14.454200\n",
       "75%      1.000000    3.000000   38.000000    1.000000    0.000000   31.000000\n",
       "max      1.000000    3.000000   80.000000    8.000000    6.000000  512.329200"
      ]
     },
     "execution_count": 8,
     "metadata": {},
     "output_type": "execute_result"
    }
   ],
   "source": [
    "# 수치 속성\n",
    "\n",
    "train_data.describe()"
   ]
  },
  {
   "cell_type": "code",
   "execution_count": 9,
   "id": "86afc801",
   "metadata": {
    "execution": {
     "iopub.execute_input": "2022-04-10T10:28:54.811699Z",
     "iopub.status.busy": "2022-04-10T10:28:54.810839Z",
     "iopub.status.idle": "2022-04-10T10:28:54.814748Z",
     "shell.execute_reply": "2022-04-10T10:28:54.814161Z",
     "shell.execute_reply.started": "2022-04-10T09:31:16.713606Z"
    },
    "papermill": {
     "duration": 0.037162,
     "end_time": "2022-04-10T10:28:54.814904",
     "exception": false,
     "start_time": "2022-04-10T10:28:54.777742",
     "status": "completed"
    },
    "tags": []
   },
   "outputs": [
    {
     "data": {
      "text/plain": [
       "0    549\n",
       "1    342\n",
       "Name: Survived, dtype: int64"
      ]
     },
     "execution_count": 9,
     "metadata": {},
     "output_type": "execute_result"
    }
   ],
   "source": [
    "# 목표값이 0 또는 1인지 확인\n",
    "\n",
    "train_data[\"Survived\"].value_counts()"
   ]
  },
  {
   "cell_type": "code",
   "execution_count": 10,
   "id": "6c273876",
   "metadata": {
    "execution": {
     "iopub.execute_input": "2022-04-10T10:28:54.874059Z",
     "iopub.status.busy": "2022-04-10T10:28:54.873261Z",
     "iopub.status.idle": "2022-04-10T10:28:54.876607Z",
     "shell.execute_reply": "2022-04-10T10:28:54.877017Z",
     "shell.execute_reply.started": "2022-04-10T09:31:30.147968Z"
    },
    "papermill": {
     "duration": 0.035717,
     "end_time": "2022-04-10T10:28:54.877200",
     "exception": false,
     "start_time": "2022-04-10T10:28:54.841483",
     "status": "completed"
    },
    "tags": []
   },
   "outputs": [
    {
     "data": {
      "text/plain": [
       "3    491\n",
       "1    216\n",
       "2    184\n",
       "Name: Pclass, dtype: int64"
      ]
     },
     "execution_count": 10,
     "metadata": {},
     "output_type": "execute_result"
    }
   ],
   "source": [
    "train_data[\"Pclass\"].value_counts()"
   ]
  },
  {
   "cell_type": "code",
   "execution_count": 11,
   "id": "5b8892b5",
   "metadata": {
    "execution": {
     "iopub.execute_input": "2022-04-10T10:28:54.933568Z",
     "iopub.status.busy": "2022-04-10T10:28:54.932699Z",
     "iopub.status.idle": "2022-04-10T10:28:54.935838Z",
     "shell.execute_reply": "2022-04-10T10:28:54.936374Z",
     "shell.execute_reply.started": "2022-04-10T09:31:37.134229Z"
    },
    "papermill": {
     "duration": 0.034428,
     "end_time": "2022-04-10T10:28:54.936583",
     "exception": false,
     "start_time": "2022-04-10T10:28:54.902155",
     "status": "completed"
    },
    "tags": []
   },
   "outputs": [
    {
     "data": {
      "text/plain": [
       "male      577\n",
       "female    314\n",
       "Name: Sex, dtype: int64"
      ]
     },
     "execution_count": 11,
     "metadata": {},
     "output_type": "execute_result"
    }
   ],
   "source": [
    "train_data[\"Sex\"].value_counts()"
   ]
  },
  {
   "cell_type": "code",
   "execution_count": 12,
   "id": "9d2654da",
   "metadata": {
    "execution": {
     "iopub.execute_input": "2022-04-10T10:28:54.993875Z",
     "iopub.status.busy": "2022-04-10T10:28:54.992970Z",
     "iopub.status.idle": "2022-04-10T10:28:54.996836Z",
     "shell.execute_reply": "2022-04-10T10:28:54.996246Z",
     "shell.execute_reply.started": "2022-04-10T09:31:53.488712Z"
    },
    "papermill": {
     "duration": 0.03543,
     "end_time": "2022-04-10T10:28:54.996969",
     "exception": false,
     "start_time": "2022-04-10T10:28:54.961539",
     "status": "completed"
    },
    "tags": []
   },
   "outputs": [
    {
     "data": {
      "text/plain": [
       "S    644\n",
       "C    168\n",
       "Q     77\n",
       "Name: Embarked, dtype: int64"
      ]
     },
     "execution_count": 12,
     "metadata": {},
     "output_type": "execute_result"
    }
   ],
   "source": [
    "train_data[\"Embarked\"].value_counts()"
   ]
  },
  {
   "cell_type": "markdown",
   "id": "a3654989",
   "metadata": {
    "papermill": {
     "duration": 0.024638,
     "end_time": "2022-04-10T10:28:55.046602",
     "exception": false,
     "start_time": "2022-04-10T10:28:55.021964",
     "status": "completed"
    },
    "tags": []
   },
   "source": [
    "**전처리 파이프라인 생성**"
   ]
  },
  {
   "cell_type": "code",
   "execution_count": 13,
   "id": "9cd107ef",
   "metadata": {
    "execution": {
     "iopub.execute_input": "2022-04-10T10:28:55.101272Z",
     "iopub.status.busy": "2022-04-10T10:28:55.100692Z",
     "iopub.status.idle": "2022-04-10T10:28:56.071341Z",
     "shell.execute_reply": "2022-04-10T10:28:56.070265Z",
     "shell.execute_reply.started": "2022-04-10T09:33:40.591012Z"
    },
    "papermill": {
     "duration": 0.999553,
     "end_time": "2022-04-10T10:28:56.071555",
     "exception": false,
     "start_time": "2022-04-10T10:28:55.072002",
     "status": "completed"
    },
    "tags": []
   },
   "outputs": [],
   "source": [
    "from sklearn.preprocessing import StandardScaler"
   ]
  },
  {
   "cell_type": "code",
   "execution_count": 14,
   "id": "b4cb4145",
   "metadata": {
    "execution": {
     "iopub.execute_input": "2022-04-10T10:28:56.125317Z",
     "iopub.status.busy": "2022-04-10T10:28:56.124323Z",
     "iopub.status.idle": "2022-04-10T10:28:56.289611Z",
     "shell.execute_reply": "2022-04-10T10:28:56.288942Z",
     "shell.execute_reply.started": "2022-04-10T09:33:42.998539Z"
    },
    "papermill": {
     "duration": 0.193264,
     "end_time": "2022-04-10T10:28:56.289759",
     "exception": false,
     "start_time": "2022-04-10T10:28:56.096495",
     "status": "completed"
    },
    "tags": []
   },
   "outputs": [],
   "source": [
    "# 이제 수치 속성을 위한 파이프라인부터 시작하여 전처리 파이프라인을 구축\n",
    "\n",
    "from sklearn.pipeline import Pipeline\n",
    "from sklearn.impute import SimpleImputer\n",
    "\n",
    "num_pipeline = Pipeline([\n",
    "        (\"imputer\", SimpleImputer(strategy=\"median\")),\n",
    "        (\"scaler\", StandardScaler())\n",
    "    ])"
   ]
  },
  {
   "cell_type": "code",
   "execution_count": 15,
   "id": "adcdcb49",
   "metadata": {
    "execution": {
     "iopub.execute_input": "2022-04-10T10:28:56.346449Z",
     "iopub.status.busy": "2022-04-10T10:28:56.345845Z",
     "iopub.status.idle": "2022-04-10T10:28:56.347490Z",
     "shell.execute_reply": "2022-04-10T10:28:56.347925Z",
     "shell.execute_reply.started": "2022-04-10T09:34:03.714489Z"
    },
    "papermill": {
     "duration": 0.032786,
     "end_time": "2022-04-10T10:28:56.348084",
     "exception": false,
     "start_time": "2022-04-10T10:28:56.315298",
     "status": "completed"
    },
    "tags": []
   },
   "outputs": [],
   "source": [
    "# 이제 범주 속성을 위한 파이프라인을 구축\n",
    "\n",
    "from sklearn.preprocessing import OrdinalEncoder, OneHotEncoder\n",
    "\n",
    "cat_pipeline = Pipeline([\n",
    "        (\"ordinal_encoder\", OrdinalEncoder()),    \n",
    "        (\"imputer\", SimpleImputer(strategy=\"most_frequent\")),\n",
    "        (\"cat_encoder\", OneHotEncoder(sparse=False)),\n",
    "    ])"
   ]
  },
  {
   "cell_type": "code",
   "execution_count": 16,
   "id": "e5872aae",
   "metadata": {
    "execution": {
     "iopub.execute_input": "2022-04-10T10:28:56.406502Z",
     "iopub.status.busy": "2022-04-10T10:28:56.405884Z",
     "iopub.status.idle": "2022-04-10T10:28:56.417495Z",
     "shell.execute_reply": "2022-04-10T10:28:56.418028Z",
     "shell.execute_reply.started": "2022-04-10T09:34:35.896905Z"
    },
    "papermill": {
     "duration": 0.042908,
     "end_time": "2022-04-10T10:28:56.418197",
     "exception": false,
     "start_time": "2022-04-10T10:28:56.375289",
     "status": "completed"
    },
    "tags": []
   },
   "outputs": [],
   "source": [
    "# 마지막으로 수치 및 범주형 파이프라인에 가입\n",
    "\n",
    "from sklearn.compose import ColumnTransformer\n",
    "\n",
    "num_attribs = [\"Age\", \"SibSp\", \"Parch\", \"Fare\"]\n",
    "cat_attribs = [\"Pclass\", \"Sex\", \"Embarked\"]\n",
    "\n",
    "preprocess_pipeline = ColumnTransformer([\n",
    "        (\"num\", num_pipeline, num_attribs),\n",
    "        (\"cat\", cat_pipeline, cat_attribs),\n",
    "    ])"
   ]
  },
  {
   "cell_type": "code",
   "execution_count": 17,
   "id": "f6eaac22",
   "metadata": {
    "execution": {
     "iopub.execute_input": "2022-04-10T10:28:56.470340Z",
     "iopub.status.busy": "2022-04-10T10:28:56.469778Z",
     "iopub.status.idle": "2022-04-10T10:28:56.490218Z",
     "shell.execute_reply": "2022-04-10T10:28:56.490872Z",
     "shell.execute_reply.started": "2022-04-10T09:34:40.019969Z"
    },
    "papermill": {
     "duration": 0.04814,
     "end_time": "2022-04-10T10:28:56.491059",
     "exception": false,
     "start_time": "2022-04-10T10:28:56.442919",
     "status": "completed"
    },
    "tags": []
   },
   "outputs": [
    {
     "data": {
      "text/plain": [
       "array([[-0.56573646,  0.43279337, -0.47367361, ...,  0.        ,\n",
       "         0.        ,  1.        ],\n",
       "       [ 0.66386103,  0.43279337, -0.47367361, ...,  1.        ,\n",
       "         0.        ,  0.        ],\n",
       "       [-0.25833709, -0.4745452 , -0.47367361, ...,  0.        ,\n",
       "         0.        ,  1.        ],\n",
       "       ...,\n",
       "       [-0.1046374 ,  0.43279337,  2.00893337, ...,  0.        ,\n",
       "         0.        ,  1.        ],\n",
       "       [-0.25833709, -0.4745452 , -0.47367361, ...,  1.        ,\n",
       "         0.        ,  0.        ],\n",
       "       [ 0.20276197, -0.4745452 , -0.47367361, ...,  0.        ,\n",
       "         1.        ,  0.        ]])"
      ]
     },
     "execution_count": 17,
     "metadata": {},
     "output_type": "execute_result"
    }
   ],
   "source": [
    "X_train = preprocess_pipeline.fit_transform(train_data)\n",
    "X_train"
   ]
  },
  {
   "cell_type": "code",
   "execution_count": 18,
   "id": "465a397b",
   "metadata": {
    "execution": {
     "iopub.execute_input": "2022-04-10T10:28:56.544848Z",
     "iopub.status.busy": "2022-04-10T10:28:56.544218Z",
     "iopub.status.idle": "2022-04-10T10:28:56.547601Z",
     "shell.execute_reply": "2022-04-10T10:28:56.548057Z",
     "shell.execute_reply.started": "2022-04-10T09:35:36.969121Z"
    },
    "papermill": {
     "duration": 0.032223,
     "end_time": "2022-04-10T10:28:56.548217",
     "exception": false,
     "start_time": "2022-04-10T10:28:56.515994",
     "status": "completed"
    },
    "tags": []
   },
   "outputs": [],
   "source": [
    "# 라벨 받기\n",
    "\n",
    "y_train = train_data[\"Survived\"]"
   ]
  },
  {
   "cell_type": "code",
   "execution_count": 19,
   "id": "3547ff59",
   "metadata": {
    "execution": {
     "iopub.execute_input": "2022-04-10T10:28:56.605259Z",
     "iopub.status.busy": "2022-04-10T10:28:56.604633Z",
     "iopub.status.idle": "2022-04-10T10:28:56.689954Z",
     "shell.execute_reply": "2022-04-10T10:28:56.689272Z",
     "shell.execute_reply.started": "2022-04-10T09:36:57.028063Z"
    },
    "papermill": {
     "duration": 0.115523,
     "end_time": "2022-04-10T10:28:56.690203",
     "exception": false,
     "start_time": "2022-04-10T10:28:56.574680",
     "status": "completed"
    },
    "tags": []
   },
   "outputs": [],
   "source": [
    "from sklearn.ensemble import RandomForestClassifier\n"
   ]
  },
  {
   "cell_type": "code",
   "execution_count": 20,
   "id": "c0bfeb87",
   "metadata": {
    "execution": {
     "iopub.execute_input": "2022-04-10T10:28:56.747814Z",
     "iopub.status.busy": "2022-04-10T10:28:56.747144Z",
     "iopub.status.idle": "2022-04-10T10:28:56.925655Z",
     "shell.execute_reply": "2022-04-10T10:28:56.926112Z",
     "shell.execute_reply.started": "2022-04-10T09:36:58.796222Z"
    },
    "papermill": {
     "duration": 0.209386,
     "end_time": "2022-04-10T10:28:56.926301",
     "exception": false,
     "start_time": "2022-04-10T10:28:56.716915",
     "status": "completed"
    },
    "tags": []
   },
   "outputs": [
    {
     "data": {
      "text/plain": [
       "RandomForestClassifier(random_state=42)"
      ]
     },
     "execution_count": 20,
     "metadata": {},
     "output_type": "execute_result"
    }
   ],
   "source": [
    "# RandomForestClassifier 실행\n",
    "\n",
    "forest_clf = RandomForestClassifier(n_estimators=100, random_state=42)\n",
    "forest_clf.fit(X_train, y_train)"
   ]
  },
  {
   "cell_type": "code",
   "execution_count": 21,
   "id": "391df935",
   "metadata": {
    "execution": {
     "iopub.execute_input": "2022-04-10T10:28:56.983412Z",
     "iopub.status.busy": "2022-04-10T10:28:56.980331Z",
     "iopub.status.idle": "2022-04-10T10:28:57.010295Z",
     "shell.execute_reply": "2022-04-10T10:28:57.009719Z",
     "shell.execute_reply.started": "2022-04-10T09:37:28.460798Z"
    },
    "papermill": {
     "duration": 0.058297,
     "end_time": "2022-04-10T10:28:57.010470",
     "exception": false,
     "start_time": "2022-04-10T10:28:56.952173",
     "status": "completed"
    },
    "tags": []
   },
   "outputs": [],
   "source": [
    "X_test = preprocess_pipeline.transform(test_data)\n",
    "y_pred = forest_clf.predict(X_test)"
   ]
  },
  {
   "cell_type": "code",
   "execution_count": 22,
   "id": "81199cc6",
   "metadata": {
    "execution": {
     "iopub.execute_input": "2022-04-10T10:28:57.067026Z",
     "iopub.status.busy": "2022-04-10T10:28:57.066329Z",
     "iopub.status.idle": "2022-04-10T10:28:57.068519Z",
     "shell.execute_reply": "2022-04-10T10:28:57.068952Z",
     "shell.execute_reply.started": "2022-04-10T09:38:14.567717Z"
    },
    "papermill": {
     "duration": 0.032391,
     "end_time": "2022-04-10T10:28:57.069103",
     "exception": false,
     "start_time": "2022-04-10T10:28:57.036712",
     "status": "completed"
    },
    "tags": []
   },
   "outputs": [],
   "source": [
    "from sklearn.model_selection import cross_val_score\n"
   ]
  },
  {
   "cell_type": "code",
   "execution_count": 23,
   "id": "5f61c2da",
   "metadata": {
    "execution": {
     "iopub.execute_input": "2022-04-10T10:28:57.124264Z",
     "iopub.status.busy": "2022-04-10T10:28:57.123716Z",
     "iopub.status.idle": "2022-04-10T10:28:58.892001Z",
     "shell.execute_reply": "2022-04-10T10:28:58.891198Z",
     "shell.execute_reply.started": "2022-04-10T09:38:16.050599Z"
    },
    "papermill": {
     "duration": 1.797748,
     "end_time": "2022-04-10T10:28:58.892168",
     "exception": false,
     "start_time": "2022-04-10T10:28:57.094420",
     "status": "completed"
    },
    "tags": []
   },
   "outputs": [
    {
     "data": {
      "text/plain": [
       "0.8092759051186016"
      ]
     },
     "execution_count": 23,
     "metadata": {},
     "output_type": "execute_result"
    }
   ],
   "source": [
    "# 교차 검증을 통해 우리 모델이 얼마나 좋은지 알아보자\n",
    "\n",
    "forest_scores = cross_val_score(forest_clf, X_train, y_train, cv=10)\n",
    "forest_scores.mean()"
   ]
  },
  {
   "cell_type": "code",
   "execution_count": 24,
   "id": "236c6aa8",
   "metadata": {
    "execution": {
     "iopub.execute_input": "2022-04-10T10:28:58.951628Z",
     "iopub.status.busy": "2022-04-10T10:28:58.950952Z",
     "iopub.status.idle": "2022-04-10T10:28:59.197121Z",
     "shell.execute_reply": "2022-04-10T10:28:59.197636Z",
     "shell.execute_reply.started": "2022-04-10T09:38:52.318828Z"
    },
    "papermill": {
     "duration": 0.278023,
     "end_time": "2022-04-10T10:28:59.197811",
     "exception": false,
     "start_time": "2022-04-10T10:28:58.919788",
     "status": "completed"
    },
    "tags": []
   },
   "outputs": [
    {
     "data": {
      "text/plain": [
       "0.8249313358302123"
      ]
     },
     "execution_count": 24,
     "metadata": {},
     "output_type": "execute_result"
    }
   ],
   "source": [
    "# SVC 사용\n",
    "\n",
    "from sklearn.svm import SVC\n",
    "\n",
    "svm_clf = SVC(gamma=\"auto\")\n",
    "svm_scores = cross_val_score(svm_clf, X_train, y_train, cv=10)\n",
    "svm_scores.mean()  # 이 모델이 더 좋아보임"
   ]
  },
  {
   "cell_type": "code",
   "execution_count": 25,
   "id": "e44c3eb6",
   "metadata": {
    "execution": {
     "iopub.execute_input": "2022-04-10T10:28:59.253326Z",
     "iopub.status.busy": "2022-04-10T10:28:59.252749Z",
     "iopub.status.idle": "2022-04-10T10:28:59.405634Z",
     "shell.execute_reply": "2022-04-10T10:28:59.406438Z",
     "shell.execute_reply.started": "2022-04-10T09:39:58.895998Z"
    },
    "papermill": {
     "duration": 0.182056,
     "end_time": "2022-04-10T10:28:59.406757",
     "exception": false,
     "start_time": "2022-04-10T10:28:59.224701",
     "status": "completed"
    },
    "tags": []
   },
   "outputs": [
    {
     "data": {
      "image/png": "[encoded data removed]",
      "text/plain": [
       "<Figure size 576x288 with 1 Axes>"
      ]
     },
     "metadata": {
      "needs_background": "light"
     },
     "output_type": "display_data"
    }
   ],
   "source": [
    "plt.figure(figsize=(8, 4))\n",
    "plt.plot([1]*10, svm_scores, \".\")\n",
    "plt.plot([2]*10, forest_scores, \".\")\n",
    "plt.boxplot([svm_scores, forest_scores], labels=(\"SVM\", \"Random Forest\"))\n",
    "plt.ylabel(\"Accuracy\")\n",
    "plt.show()"
   ]
  },
  {
   "cell_type": "markdown",
   "id": "524083d5",
   "metadata": {
    "papermill": {
     "duration": 0.028563,
     "end_time": "2022-04-10T10:28:59.465663",
     "exception": false,
     "start_time": "2022-04-10T10:28:59.437100",
     "status": "completed"
    },
    "tags": []
   },
   "source": [
    "이 결과를 더욱 개선하기 위해 다음을 수행할 수 있다.\n",
    "* 교차 검증 및 그리드 검색을 사용하여 더 많은 모델을 비교하고 하이퍼 파라미터를 조정한다.\n",
    "* 다음과 같이 피쳐 엔지니어링을 추가로 수행한다.\n",
    "* 수치 속성을 범주형 속성으로 변환해 보자. 예를 들어, 연령 그룹마다 생존율이 매우 다르므로(아래 참조) 연령 버킷 범주를 만들고 나이 대신 사용하는 데 도움이 될 수 있다. 마찬가지로, 30%만이 살아남았기 때문에 혼자 여행하는 사람들을 위해 특별한 범주를 두는 것이 유용할 수 있다(아래 참조).\n",
    "* **SibSp** 및 **Parch**를 합으로 바꾼다.\n",
    "* **Survived** 속성과 잘 상관되는 이름 부분을 식별한다.\n",
    "* **Cabin** 열을 사용한다. 예를 들어 첫 번째 문자를 취하여 범주형 속성으로 처리한다."
   ]
  },
  {
   "cell_type": "code",
   "execution_count": 26,
   "id": "7da39434",
   "metadata": {
    "execution": {
     "iopub.execute_input": "2022-04-10T10:28:59.522541Z",
     "iopub.status.busy": "2022-04-10T10:28:59.521918Z",
     "iopub.status.idle": "2022-04-10T10:28:59.537891Z",
     "shell.execute_reply": "2022-04-10T10:28:59.538334Z",
     "shell.execute_reply.started": "2022-04-10T09:40:30.009363Z"
    },
    "papermill": {
     "duration": 0.045666,
     "end_time": "2022-04-10T10:28:59.538518",
     "exception": false,
     "start_time": "2022-04-10T10:28:59.492852",
     "status": "completed"
    },
    "tags": []
   },
   "outputs": [
    {
     "data": {
      "text/html": [
       "<div>\n",
       "<style scoped>\n",
       "    .dataframe tbody tr th:only-of-type {\n",
       "        vertical-align: middle;\n",
       "    }\n",
       "\n",
       "    .dataframe tbody tr th {\n",
       "        vertical-align: top;\n",
       "    }\n",
       "\n",
       "    .dataframe thead th {\n",
       "        text-align: right;\n",
       "    }\n",
       "</style>\n",
       "<table border=\"1\" class=\"dataframe\">\n",
       "  <thead>\n",
       "    <tr style=\"text-align: right;\">\n",
       "      <th></th>\n",
       "      <th>Survived</th>\n",
       "    </tr>\n",
       "    <tr>\n",
       "      <th>AgeBucket</th>\n",
       "      <th></th>\n",
       "    </tr>\n",
       "  </thead>\n",
       "  <tbody>\n",
       "    <tr>\n",
       "      <th>0.0</th>\n",
       "      <td>0.576923</td>\n",
       "    </tr>\n",
       "    <tr>\n",
       "      <th>15.0</th>\n",
       "      <td>0.362745</td>\n",
       "    </tr>\n",
       "    <tr>\n",
       "      <th>30.0</th>\n",
       "      <td>0.423256</td>\n",
       "    </tr>\n",
       "    <tr>\n",
       "      <th>45.0</th>\n",
       "      <td>0.404494</td>\n",
       "    </tr>\n",
       "    <tr>\n",
       "      <th>60.0</th>\n",
       "      <td>0.240000</td>\n",
       "    </tr>\n",
       "    <tr>\n",
       "      <th>75.0</th>\n",
       "      <td>1.000000</td>\n",
       "    </tr>\n",
       "  </tbody>\n",
       "</table>\n",
       "</div>"
      ],
      "text/plain": [
       "           Survived\n",
       "AgeBucket          \n",
       "0.0        0.576923\n",
       "15.0       0.362745\n",
       "30.0       0.423256\n",
       "45.0       0.404494\n",
       "60.0       0.240000\n",
       "75.0       1.000000"
      ]
     },
     "execution_count": 26,
     "metadata": {},
     "output_type": "execute_result"
    }
   ],
   "source": [
    "train_data[\"AgeBucket\"] = train_data[\"Age\"] // 15 * 15\n",
    "train_data[[\"AgeBucket\", \"Survived\"]].groupby(['AgeBucket']).mean()"
   ]
  },
  {
   "cell_type": "code",
   "execution_count": 27,
   "id": "5f061a03",
   "metadata": {
    "execution": {
     "iopub.execute_input": "2022-04-10T10:28:59.596747Z",
     "iopub.status.busy": "2022-04-10T10:28:59.595828Z",
     "iopub.status.idle": "2022-04-10T10:28:59.608463Z",
     "shell.execute_reply": "2022-04-10T10:28:59.609104Z",
     "shell.execute_reply.started": "2022-04-10T09:40:53.325287Z"
    },
    "papermill": {
     "duration": 0.04399,
     "end_time": "2022-04-10T10:28:59.609288",
     "exception": false,
     "start_time": "2022-04-10T10:28:59.565298",
     "status": "completed"
    },
    "tags": []
   },
   "outputs": [
    {
     "data": {
      "text/html": [
       "<div>\n",
       "<style scoped>\n",
       "    .dataframe tbody tr th:only-of-type {\n",
       "        vertical-align: middle;\n",
       "    }\n",
       "\n",
       "    .dataframe tbody tr th {\n",
       "        vertical-align: top;\n",
       "    }\n",
       "\n",
       "    .dataframe thead th {\n",
       "        text-align: right;\n",
       "    }\n",
       "</style>\n",
       "<table border=\"1\" class=\"dataframe\">\n",
       "  <thead>\n",
       "    <tr style=\"text-align: right;\">\n",
       "      <th></th>\n",
       "      <th>Survived</th>\n",
       "    </tr>\n",
       "    <tr>\n",
       "      <th>RelativesOnboard</th>\n",
       "      <th></th>\n",
       "    </tr>\n",
       "  </thead>\n",
       "  <tbody>\n",
       "    <tr>\n",
       "      <th>0</th>\n",
       "      <td>0.303538</td>\n",
       "    </tr>\n",
       "    <tr>\n",
       "      <th>1</th>\n",
       "      <td>0.552795</td>\n",
       "    </tr>\n",
       "    <tr>\n",
       "      <th>2</th>\n",
       "      <td>0.578431</td>\n",
       "    </tr>\n",
       "    <tr>\n",
       "      <th>3</th>\n",
       "      <td>0.724138</td>\n",
       "    </tr>\n",
       "    <tr>\n",
       "      <th>4</th>\n",
       "      <td>0.200000</td>\n",
       "    </tr>\n",
       "    <tr>\n",
       "      <th>5</th>\n",
       "      <td>0.136364</td>\n",
       "    </tr>\n",
       "    <tr>\n",
       "      <th>6</th>\n",
       "      <td>0.333333</td>\n",
       "    </tr>\n",
       "    <tr>\n",
       "      <th>7</th>\n",
       "      <td>0.000000</td>\n",
       "    </tr>\n",
       "    <tr>\n",
       "      <th>10</th>\n",
       "      <td>0.000000</td>\n",
       "    </tr>\n",
       "  </tbody>\n",
       "</table>\n",
       "</div>"
      ],
      "text/plain": [
       "                  Survived\n",
       "RelativesOnboard          \n",
       "0                 0.303538\n",
       "1                 0.552795\n",
       "2                 0.578431\n",
       "3                 0.724138\n",
       "4                 0.200000\n",
       "5                 0.136364\n",
       "6                 0.333333\n",
       "7                 0.000000\n",
       "10                0.000000"
      ]
     },
     "execution_count": 27,
     "metadata": {},
     "output_type": "execute_result"
    }
   ],
   "source": [
    "train_data[\"RelativesOnboard\"] = train_data[\"SibSp\"] + train_data[\"Parch\"]\n",
    "train_data[[\"RelativesOnboard\", \"Survived\"]].groupby(\n",
    "    ['RelativesOnboard']).mean()"
   ]
  }
 ],
 "metadata": {
  "kernelspec": {
   "display_name": "Python 3",
   "language": "python",
   "name": "python3"
  },
  "language_info": {
   "codemirror_mode": {
    "name": "ipython",
    "version": 3
   },
   "file_extension": ".py",
   "mimetype": "text/x-python",
   "name": "python",
   "nbconvert_exporter": "python",
   "pygments_lexer": "ipython3",
   "version": "3.7.12"
  },
  "papermill": {
   "default_parameters": {},
   "duration": 14.922898,
   "end_time": "2022-04-10T10:29:00.346536",
   "environment_variables": {},
   "exception": null,
   "input_path": "__notebook__.ipynb",
   "output_path": "__notebook__.ipynb",
   "parameters": {},
   "start_time": "2022-04-10T10:28:45.423638",
   "version": "2.3.3"
  }
 },
 "nbformat": 4,
 "nbformat_minor": 5
}
